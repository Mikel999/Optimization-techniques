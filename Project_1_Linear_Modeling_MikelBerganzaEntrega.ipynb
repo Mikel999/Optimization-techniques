{
  "nbformat": 4,
  "nbformat_minor": 0,
  "metadata": {
    "colab": {
      "name": "Project_1_Linear_Modeling_MikelBerganzaEntrega.ipynb",
      "provenance": [],
      "collapsed_sections": []
    },
    "kernelspec": {
      "display_name": "Python 3",
      "language": "python",
      "name": "python3"
    },
    "language_info": {
      "codemirror_mode": {
        "name": "ipython",
        "version": 3
      },
      "file_extension": ".py",
      "mimetype": "text/x-python",
      "name": "python",
      "nbconvert_exporter": "python",
      "pygments_lexer": "ipython3",
      "version": "3.6.9"
    }
  },
  "cells": [
    {
      "cell_type": "markdown",
      "metadata": {
        "id": "9DkxU8pY_q0W"
      },
      "source": [
        "# Project 1. Linear modeling and linear programming"
      ]
    },
    {
      "cell_type": "markdown",
      "metadata": {
        "id": "xK_YvXcR8Kwn"
      },
      "source": [
        "Note: Im using google colab to make this project. The pyomo library doesnt work when using the glpk solver. When i tried reexecuting everything again (except the 1st cell, to install pulp and pyomo) using jupyter notebook on class it worked fine. So, if it doesn't work at first, try reexecuting everything and it should work. :)"
      ]
    },
    {
      "cell_type": "markdown",
      "metadata": {
        "id": "miWja4bptFoJ"
      },
      "source": [
        "## Problem 1 (Chapter 5, Exercise 61)"
      ]
    },
    {
      "cell_type": "code",
      "metadata": {
        "id": "W80XadlCAZYh"
      },
      "source": [
        "#Code for working on Google Colab, installing both packages\n",
        "!pip install pulp\n",
        "!pip install pyomo"
      ],
      "execution_count": null,
      "outputs": []
    },
    {
      "cell_type": "code",
      "metadata": {
        "id": "DvlFvMl-_q0a"
      },
      "source": [
        "# We start by importing the python libraries required to solve the problems\n",
        "\n",
        "%matplotlib inline\n",
        "\n",
        "\n",
        "import numpy as np\n",
        "import pylab as plt\n",
        "import matplotlib.cm as cm\n",
        "import matplotlib\n",
        "from PIL import Image as im\n",
        "import math\n",
        "#import cv2\n",
        "\n",
        "import pulp\n",
        "import pyomo\n",
        "#import mdptoolbox\n",
        "\n",
        "\n",
        "import pandas as pd \n",
        "\n",
        "from IPython.display import display\n",
        "from IPython.display import Image"
      ],
      "execution_count": 3,
      "outputs": []
    },
    {
      "cell_type": "markdown",
      "metadata": {
        "id": "PYKyw2qg5q8Q"
      },
      "source": [
        "### Definition of the problem"
      ]
    },
    {
      "cell_type": "markdown",
      "metadata": {
        "id": "2PV-5_wR_q0g"
      },
      "source": [
        "The linear model of the first problem is defined as follows:"
      ]
    },
    {
      "cell_type": "markdown",
      "metadata": {
        "id": "3X2pmSqQEk2s"
      },
      "source": [
        "%%%latex\n",
        "\n",
        "\\begin{eqnarray*}\n",
        "\\min \\ z=7x_{1}+8x_{2}+8.5x_{3} \\\\\n",
        "\\mbox{subject to}\\hspace{1.8cm}\\\\\n",
        "x_{1}+x_{2}+x_{3} = 1000  \\\\\n",
        "x_{1}+4x_{2}+8x_{3} \\leq 4500  \\\\\n",
        "40x_{1}+30x_{2}+20x_{3} \\leq 36000    \\\\\n",
        "3x_{1}+2x_{2}+4x_{3}\\leq 2700  \\\\\n",
        "x_{1}, x_{2}, x_{3} \\geq 0, integer   \\\\\n",
        "\\end{eqnarray*}\n"
      ]
    },
    {
      "cell_type": "markdown",
      "metadata": {
        "id": "d7FZ_Gsu_q0o"
      },
      "source": [
        "The objective function of this problem is to find the best solution (number of toasters made with each process) to minimize the cost of producing 1000 toasters. \n",
        "\n",
        "This problems has three variables (x1, x2 and x3) and five constraints. \n",
        "\n",
        "The Xi variables represent how many toasters will be produced using the i process.\n",
        "\n",
        "i ∈ {Manual, Semiautomatic, Robotic}\n",
        "\n",
        "Therefore, x1 means how many toasters will be made using the manual process and so on.\n",
        "\n",
        "The constraints represent as follows:\n",
        "\n",
        "1.   C1: There will be produced 1000 toasters exactly, so the sum of all the toasters (doesn't matter what process is used to make the toaster) has to be equal to 1000.\n",
        "2.   C2: The sum of all the skilled labor used to make all the toasters can't be higher than 4500 minutes.\n",
        "3.   C3: The sum of all the unskilled labor used to make all the toasters can't be higher than 36000 minutes.\n",
        "4.   C4: The sum of all the assembly room time used to make all the toasters can't be higher than 2700 minutes.\n",
        "5.   C5: The number of toasters made using any process has to be positive (0 or higher) and integer. You can't produce a negative number of toasters or half a toaster (it wouldn't have any value).\n"
      ]
    },
    {
      "cell_type": "markdown",
      "metadata": {
        "id": "iuAjaK6j5SPY"
      },
      "source": [
        "### Defining and solving the problem using pyomo library"
      ]
    },
    {
      "cell_type": "code",
      "metadata": {
        "id": "Qa26kvIY_bAF"
      },
      "source": [
        "\n",
        "# First, the required function definitions from pyomo are read\n",
        "from pyomo.environ import *\n",
        "from pyomo.opt import SolverFactory\n",
        "    \n",
        "    \n",
        "# We define  an abstract model    \n",
        "model = AbstractModel()\n",
        "\n",
        "# model.I stores the indices of variables in the problems (we have three variables)\n",
        "model.I = Set(initialize = [1,2,3])\n",
        "\n",
        "# The variables are defined from the indices, thus we have x[1], x[2] and x[3]\n",
        "#The variables will be nonnegative, xi>=0,integer (C5)\n",
        "model.x = Var(model.I, within=NonNegativeIntegers)\n",
        "\n",
        "# The objective function is defined as a python function\n",
        "def  obj_rule(model):\n",
        "  ans =  7*model.x[1] + 8*model.x[2] + 8.5*model.x[3]\n",
        "  return ans\n",
        "\n",
        "# We indicate the model which is the Objective functions and the sense, in this case, minimize \n",
        "model.cost = Objective(rule=obj_rule,sense=minimize)\n"
      ],
      "execution_count": 4,
      "outputs": []
    },
    {
      "cell_type": "code",
      "metadata": {
        "id": "bf3WNhrVBzbz"
      },
      "source": [
        "\n",
        "# It follows the definitions of the four constraints (C5 is defined on top, when defining the variable type)\n",
        "# Each constraint is defined as a Python function\n",
        "# Indications are given to the model of which are the constraints\n",
        "\n",
        "def c1_rule(model):          \n",
        "   ans =  model.x[1] + model.x[2] + model.x[3]  \n",
        "   return ans==1000\n",
        "\n",
        "model.c1 =  Constraint(rule=c1_rule)\n",
        "\n",
        "def c2_rule(model):\n",
        "   ans = model.x[1] + 4*model.x[2] + 8*model.x[3] \n",
        "   return ans<=4500\n",
        "\n",
        "model.c2 =  Constraint(rule=c2_rule)\n",
        "\n",
        "def c3_rule(model):\n",
        "   ans = 40*model.x[1] + 30*model.x[2] + 20*model.x[3] \n",
        "   return ans<=36000\n",
        "\n",
        "model.c3 =  Constraint(rule=c3_rule)\n",
        "\n",
        "def c4_rule(model):\n",
        "   ans = 3*model.x[1] + 2*model.x[2] + 4*model.x[3] \n",
        "   return ans<=2700\n",
        "\n",
        "model.c4 =  Constraint(rule=c4_rule)"
      ],
      "execution_count": 5,
      "outputs": []
    },
    {
      "cell_type": "markdown",
      "metadata": {
        "id": "c-fgC_GzGk4j"
      },
      "source": [
        "### GLPK installation"
      ]
    },
    {
      "cell_type": "code",
      "metadata": {
        "id": "gMeag4h0EPKX"
      },
      "source": [
        "!apt-get install -y -qq glpk-utils"
      ],
      "execution_count": null,
      "outputs": []
    },
    {
      "cell_type": "code",
      "metadata": {
        "id": "vUxvmIEpBzmY",
        "colab": {
          "base_uri": "https://localhost:8080/"
        },
        "outputId": "eb91ab04-2fec-4cc2-8121-9df16b150c7b"
      },
      "source": [
        "# Finally, an instance of the model is created and it is solved\n",
        "# using a predefined solver\n",
        "\n",
        "instance = model.create_instance()\n",
        "\n",
        "#you can create more than one instance of each mathematical problem\n",
        "\n",
        "\n",
        "# The solver glpk will be used to solve the problem. More information about glpk from here:\n",
        "# https://www.gnu.org/software/glpk/\n",
        "type_solver = 'glpk'\n",
        "\n",
        "# We could also have used a \"remote solver\" by removing the comments from\n",
        "# the following t line\n",
        "#type_solver = 'remote'\n",
        "\n",
        "\n",
        "# The solver is used to solve the problem\n",
        "if type_solver=='remote':\n",
        "  opt = SolverFactory(\"ipopt\")\n",
        "  solver_manager = SolverManagerFactory('neos')\n",
        "  results = solver_manager.solve(instance, opt=opt,load_solutions=False)\n",
        "elif  type_solver=='glpk':   \n",
        "  opt = SolverFactory('glpk', executable='/usr/bin/glpsol')    \n",
        "  results = opt.solve(instance,load_solutions=False)\n",
        "\n",
        "# The results of the optimization are shown\n",
        "results.write()\n",
        "#print(\"Objective: %s\" % (model.cost()))"
      ],
      "execution_count": 13,
      "outputs": [
        {
          "output_type": "stream",
          "text": [
            "# ==========================================================\n",
            "# = Solver Results                                         =\n",
            "# ==========================================================\n",
            "# ----------------------------------------------------------\n",
            "#   Problem Information\n",
            "# ----------------------------------------------------------\n",
            "Problem: \n",
            "- Name: unknown\n",
            "  Lower bound: 7383.5\n",
            "  Upper bound: 7383.5\n",
            "  Number of objectives: 1\n",
            "  Number of constraints: 5\n",
            "  Number of variables: 4\n",
            "  Number of nonzeros: 13\n",
            "  Sense: minimize\n",
            "# ----------------------------------------------------------\n",
            "#   Solver Information\n",
            "# ----------------------------------------------------------\n",
            "Solver: \n",
            "- Status: ok\n",
            "  Termination condition: optimal\n",
            "  Statistics: \n",
            "    Branch and bound: \n",
            "      Number of bounded subproblems: 1\n",
            "      Number of created subproblems: 1\n",
            "  Error rc: 0\n",
            "  Time: 0.014318704605102539\n",
            "# ----------------------------------------------------------\n",
            "#   Solution Information\n",
            "# ----------------------------------------------------------\n",
            "Solution: \n",
            "- number of solutions: 1\n",
            "  number of solutions displayed: 1\n",
            "- Gap: 0.0\n",
            "  Status: optimal\n",
            "  Objective:\n",
            "    x4:\n",
            "      Value: 7383.5\n",
            "  Variable:\n",
            "    x1:\n",
            "      Value: 633\n",
            "    x2:\n",
            "      Value: 334\n",
            "    x3:\n",
            "      Value: 33\n",
            "  Constraint: No values\n"
          ],
          "name": "stdout"
        }
      ]
    },
    {
      "cell_type": "markdown",
      "metadata": {
        "id": "qpHSxV5c5zFe"
      },
      "source": [
        "### Defining and solving the problem using pulp library"
      ]
    },
    {
      "cell_type": "markdown",
      "metadata": {
        "id": "iOoGwtiJ5-2o"
      },
      "source": [
        "The pulp library was used only to assure that it gives the same optimal solution as the pyomo library, since the pyomo library is giving errors on google colab. Pyomo seems to work only with a remote solver, but since it only gives real values and not integer values, pulp was used for confirmation of the solution."
      ]
    },
    {
      "cell_type": "code",
      "metadata": {
        "id": "5wElJVf-_aq7",
        "colab": {
          "base_uri": "https://localhost:8080/"
        },
        "outputId": "a6ba4685-77e5-47c1-aed7-d62bea8f2d9f"
      },
      "source": [
        "# We define the problem as of maximization\n",
        "toaster_lp_problem = pulp.LpProblem(\"Toaster LP problem\", pulp.LpMinimize)\n",
        "\n",
        "# Variables x1,x2 and x3 are defined and their lower bounds are set according to the constraints x1,x2,x3>=0, integer\n",
        "#category can be binary, integer or countinous, in this case, we choose integer\n",
        "X1 = pulp.LpVariable('X1', lowBound=0, cat='Integer')\n",
        "X2 = pulp.LpVariable('X2', lowBound=0, cat='Integer')\n",
        "X3 = pulp.LpVariable('X3', lowBound=0, cat='Integer')\n",
        "\n",
        "# Objective function\n",
        "toaster_lp_problem += 7 * X1 + 8 * X2 + 8.5 * X3, \"z\"\n",
        "\n",
        "# Constraints\n",
        "toaster_lp_problem += X1 + X2 + X3 == 1000\n",
        "toaster_lp_problem += X1 + 4*X2 + 8*X3 <= 4500 \n",
        "toaster_lp_problem += 40*X1 + 30*X2 + 20*X3 <= 36000  \n",
        "toaster_lp_problem += 3*X1 + 2*X2 + 4*X3 <= 2700 \n",
        "# Visualization of the model\n",
        "toaster_lp_problem   "
      ],
      "execution_count": null,
      "outputs": [
        {
          "output_type": "stream",
          "text": [
            "/usr/local/lib/python3.6/dist-packages/pulp/pulp.py:1198: UserWarning: Spaces are not permitted in the name. Converted to '_'\n",
            "  warnings.warn(\"Spaces are not permitted in the name. Converted to '_'\")\n"
          ],
          "name": "stderr"
        },
        {
          "output_type": "execute_result",
          "data": {
            "text/plain": [
              "Toaster_LP_problem:\n",
              "MINIMIZE\n",
              "7*X1 + 8*X2 + 8.5*X3 + 0.0\n",
              "SUBJECT TO\n",
              "_C1: X1 + X2 + X3 = 1000\n",
              "\n",
              "_C2: X1 + 4 X2 + 8 X3 <= 4500\n",
              "\n",
              "_C3: 40 X1 + 30 X2 + 20 X3 <= 36000\n",
              "\n",
              "_C4: 3 X1 + 2 X2 + 4 X3 <= 2700\n",
              "\n",
              "VARIABLES\n",
              "0 <= X1 Integer\n",
              "0 <= X2 Integer\n",
              "0 <= X3 Integer"
            ]
          },
          "metadata": {
            "tags": []
          },
          "execution_count": 3
        }
      ]
    },
    {
      "cell_type": "code",
      "metadata": {
        "id": "fDnROkll_a4-",
        "colab": {
          "base_uri": "https://localhost:8080/"
        },
        "outputId": "e1b6cd18-15b9-46f6-8e36-3fc933404c6f"
      },
      "source": [
        "# The solver is invoked, will solve it if the function is feasible\n",
        "toaster_lp_problem.solve()\n",
        "\n",
        "# The status of the solver is shown\n",
        "print(\"The status of the solution found is: \", pulp.LpStatus[toaster_lp_problem.status])\n",
        "\n",
        "# The optimal values for each of the variables are displayed\n",
        "print(\"The optimal values for the variables are: \")\n",
        "for variable in toaster_lp_problem.variables():\n",
        "    print (\"{} = {}\".format(variable.name, variable.varValue))\n",
        "\n",
        "# The best solution is printed    \n",
        "print(\"Optimal value: \",pulp.value(toaster_lp_problem.objective))\n"
      ],
      "execution_count": null,
      "outputs": [
        {
          "output_type": "stream",
          "text": [
            "The status of the solution found is:  Optimal\n",
            "The optimal values for the variables are: \n",
            "X1 = 633.0\n",
            "X2 = 334.0\n",
            "X3 = 33.0\n",
            "Optimal value:  7383.5\n"
          ],
          "name": "stdout"
        }
      ]
    },
    {
      "cell_type": "markdown",
      "metadata": {
        "id": "QVYgGknY5Jt6"
      },
      "source": [
        "### Results"
      ]
    },
    {
      "cell_type": "markdown",
      "metadata": {
        "id": "O61dfJrJyCp-"
      },
      "source": [
        "Optimal solution: X1=633, X2=334 and X3=33. \n",
        "\n",
        "Out of the 1000 toasters that the company has to make, and knowing that the company has to minimize the cost of the production:\n",
        "\n",
        "633 will be manually made, 334 will be made using the semiautomatic process and 33 will be made using the robotic process.\n",
        "\n",
        "\n",
        "Optimal value=7383,5. The minimum cost to produce those 1000 toasters will be 7383,5$"
      ]
    },
    {
      "cell_type": "markdown",
      "metadata": {
        "id": "JGdSOIb4tngS"
      },
      "source": [
        "## Problem 2 (Chapter 2, Exercise 2.1)"
      ]
    },
    {
      "cell_type": "markdown",
      "metadata": {
        "id": "mvubcEPt60EF"
      },
      "source": [
        "### Definition of the problem"
      ]
    },
    {
      "cell_type": "markdown",
      "metadata": {
        "id": "n_5y-LVFEMy3"
      },
      "source": [
        "%%%latex\n",
        "\n",
        "\\begin{eqnarray*}\n",
        "\\max \\ z=120000x_{1}+80000x_{2} \\\\\n",
        "\\mbox{subject to}\\hspace{1.8cm}\\\\\n",
        "2x_{1}+x_{2} \\leq 6  \\\\\n",
        "7x_{1}+8x_{2} \\leq 28  \\\\\n",
        "x_{1}, x_{2} \\geq 0, integer   \\\\\n",
        "\\end{eqnarray*}"
      ]
    },
    {
      "cell_type": "markdown",
      "metadata": {
        "id": "zo13k07H-hV9"
      },
      "source": [
        "The objective function of this problem is to find the best solution (number of transformers made of each type) to maximize the revenue of the transformers made. \n",
        "\n",
        "This problems has two variables (x1 and x2) and 3 constraints. \n",
        "\n",
        "The Xi variables represent how many transformers of type i will be produced.\n",
        "\n",
        "i ∈ {Transformer 1, Transformer 2}\n",
        "\n",
        "Therefore, x1 means how many transformers of type 1 will be made and so on.\n",
        "\n",
        "The constraints represent as follows:\n",
        "\n",
        "1.   C1: The sum of all the ferromagnetic material used to make the transformers can't exceed the available ammount of material (6 tons).\n",
        "2.   C2: The sum of all the working hours used to make the transformers can't exceed the available ammount of working hours (28 hours of work time).\n",
        "3.   C3: The number of transformers made has to be positive (0 or higher) and integer. You can't produce a negative number of transformers or only half of a transformer(it wouldn't have any value).\n",
        "\n",
        "Now, we construct the graphical solution of the problem and represent the feasible region of solutions. What we do to create the graphical representation of the problem is to define each constraint as a function (one free variable and one dependent variable). Then we draw these lines. "
      ]
    },
    {
      "cell_type": "markdown",
      "metadata": {
        "id": "UZc5bX7x7SxB"
      },
      "source": [
        "### Graphical representation"
      ]
    },
    {
      "cell_type": "code",
      "metadata": {
        "id": "u-2fSw_VGWKs",
        "colab": {
          "base_uri": "https://localhost:8080/",
          "height": 283
        },
        "outputId": "636cb0bd-b165-4c5d-8b71-d4792313f937"
      },
      "source": [
        "# First each of the constraints is defined as a line \n",
        "# Then we shade the area of the feasible solutions\n",
        "\n",
        "# Construct lines\n",
        "# x1 > 0\n",
        "x1 = np.linspace(0, 20, 2000)#making 2000 points between 0 and 20\n",
        "# x2 >= 0\n",
        "y1 = (x1*0) \n",
        "# 2x1 + x2 <= 6\n",
        "y2 = (6-2*x1)\n",
        "# 7x1 + 8x2 <= 28 \n",
        "y3 = (28-7*x1)/8.0\n",
        "\n",
        "\n",
        "# Show the lines plots\n",
        "\n",
        "plt.plot(x1, y1, label=r'$x2\\geq0$')\n",
        "plt.plot(x1, y2, label=r'$2x1 + x2 \\leq 6$')\n",
        "plt.plot(x1, y3, label=r'$7x1 +8x2 \\leq 28$')\n",
        "#Defining limits of the plot\n",
        "plt.xlim((0, 20))\n",
        "plt.ylim((-2, 8))\n",
        "plt.xlabel(r'$x$')\n",
        "plt.ylabel(r'$y$')\n",
        "\n",
        "# Determine the feasible region and fill it\n",
        "# First, we create two \"horizontal lines\"  y5 and y6 that delimit the polygonon\n",
        "y5 = np.minimum(y2, y3)\n",
        "y6 = np.maximum(y1, y1)\n",
        "\n",
        "# The function \"fill_between\" shades an area delimited by two horizontal curves)\n",
        "plt.fill_between(x1,y5, y6, where=y5>y6, color='grey', alpha=0.5)\n",
        "plt.legend(bbox_to_anchor=(1.05, 1), loc=2, borderaxespad=0.)\n",
        "plt.show()"
      ],
      "execution_count": null,
      "outputs": [
        {
          "output_type": "display_data",
          "data": {
            "image/png": "[encoded data removed]",
            "text/plain": [
              "<Figure size 432x288 with 1 Axes>"
            ]
          },
          "metadata": {
            "tags": [],
            "needs_background": "light"
          }
        }
      ]
    },
    {
      "cell_type": "markdown",
      "metadata": {
        "id": "lXHp_NCeIl2r"
      },
      "source": [
        "### Defining and solving the problem using pulp"
      ]
    },
    {
      "cell_type": "code",
      "metadata": {
        "id": "5nMAls_IIqIr",
        "colab": {
          "base_uri": "https://localhost:8080/"
        },
        "outputId": "03ffceed-94d4-45cd-b8e5-c2e043a8169e"
      },
      "source": [
        "# We define the problem as of maximization\n",
        "\n",
        "transformers_lp_problem = pulp.LpProblem(\"Transformer production LP problem\", pulp.LpMaximize)\n",
        "\n",
        "# Variables x1 and x2 are defined and their lower bounds are set according to the constraints x1,x2>=0 and integer\n",
        "#category can be: binary, integer or countinous, in this case, we choose integer\n",
        "X1 = pulp.LpVariable('X1', lowBound=0, cat='Integer')\n",
        "X2 = pulp.LpVariable('X2', lowBound=0, cat='Integer')\n",
        "\n",
        "# Objective function\n",
        "transformers_lp_problem += 120000 * X1 + 80000 * X2, \"z\"\n",
        "\n",
        "# Constraints\n",
        "transformers_lp_problem += 2*X1 + X2 <= 6\n",
        "transformers_lp_problem += 7*X1 + 8*X2 <= 28\n",
        "\n",
        "# Visualization of the model\n",
        "transformers_lp_problem   "
      ],
      "execution_count": null,
      "outputs": [
        {
          "output_type": "stream",
          "text": [
            "/usr/local/lib/python3.6/dist-packages/pulp/pulp.py:1198: UserWarning: Spaces are not permitted in the name. Converted to '_'\n",
            "  warnings.warn(\"Spaces are not permitted in the name. Converted to '_'\")\n"
          ],
          "name": "stderr"
        },
        {
          "output_type": "execute_result",
          "data": {
            "text/plain": [
              "Transformer_production_LP_problem:\n",
              "MAXIMIZE\n",
              "120000*X1 + 80000*X2 + 0\n",
              "SUBJECT TO\n",
              "_C1: 2 X1 + X2 <= 6\n",
              "\n",
              "_C2: 7 X1 + 8 X2 <= 28\n",
              "\n",
              "VARIABLES\n",
              "0 <= X1 Integer\n",
              "0 <= X2 Integer"
            ]
          },
          "metadata": {
            "tags": []
          },
          "execution_count": 6
        }
      ]
    },
    {
      "cell_type": "code",
      "metadata": {
        "id": "qr2-f9OsJGWw",
        "colab": {
          "base_uri": "https://localhost:8080/"
        },
        "outputId": "06b49bee-6066-40bf-c0f7-b6d63be66c72"
      },
      "source": [
        "# The solver is invoked, will solve it if the function is feasible\n",
        "transformers_lp_problem.solve()\n",
        "\n",
        "# The status of the solver is shown\n",
        "print(\"The status of the solution found is: \", pulp.LpStatus[transformers_lp_problem.status])\n",
        "\n",
        "# The optimal values for each of the variables are displayed\n",
        "print(\"The optimal values for the variables are: \")\n",
        "for variable in transformers_lp_problem.variables():\n",
        "    print (\"{} = {}\".format(variable.name, variable.varValue))\n",
        "\n",
        "# The best solution is printed    \n",
        "print(\"Optimal value: \",pulp.value(transformers_lp_problem.objective))"
      ],
      "execution_count": null,
      "outputs": [
        {
          "output_type": "stream",
          "text": [
            "The status of the solution found is:  Optimal\n",
            "The optimal values for the variables are: \n",
            "X1 = 3.0\n",
            "X2 = 0.0\n",
            "Optimal value:  360000.0\n"
          ],
          "name": "stdout"
        }
      ]
    },
    {
      "cell_type": "markdown",
      "metadata": {
        "id": "LZP0Vvuq7blZ"
      },
      "source": [
        "### Results"
      ]
    },
    {
      "cell_type": "markdown",
      "metadata": {
        "id": "yWU1FVJdJLw_"
      },
      "source": [
        "Optimal solution: X1 = 3 and X2 = 0.\n",
        "To maximize the revenue, there will be produced 3 transformers of type 1 and 0 of type 2.\n",
        "\n",
        "Optimal value: 360000. The revenue obtained by selling those 3 transformers of type 1 will be 360000 Eurodolars."
      ]
    },
    {
      "cell_type": "markdown",
      "metadata": {
        "id": "z4Tls3K77LT6"
      },
      "source": [
        "### Graphical representation of the optimal solution"
      ]
    },
    {
      "cell_type": "markdown",
      "metadata": {
        "id": "I8lCRsSrJz2Y"
      },
      "source": [
        "Now that we have the optimal solution, we can plot the optimal solution as part of the feasible set of solutions"
      ]
    },
    {
      "cell_type": "code",
      "metadata": {
        "id": "Sp20-UqzKAAw",
        "colab": {
          "base_uri": "https://localhost:8080/",
          "height": 283
        },
        "outputId": "0bf0326a-ec11-4360-d8cc-d616ce72d76e"
      },
      "source": [
        "# Show the lines plots\n",
        "\n",
        "plt.plot(x1, y1, label=r'$x2\\geq0$')\n",
        "plt.plot(x1, y2, label=r'$2x1 + x2 \\leq 6$')\n",
        "plt.plot(x1, y3, label=r'$7x1 +8x2 \\leq 28$')\n",
        "#Defining limits of the plot\n",
        "plt.xlim((0, 20))\n",
        "plt.ylim((-2, 8))\n",
        "plt.xlabel(r'$x$')\n",
        "plt.ylabel(r'$y$')\n",
        "\n",
        "# Determine the feasible region and fill it\n",
        "# First, we create two \"horizontal lines\"  y5 and y6 that delimit the polygonon\n",
        "y5 = np.minimum(y2, y3)\n",
        "y6 = np.maximum(y1, y1)\n",
        "\n",
        "# The function \"fill_between\" shades an area delimited two horizontal curves)\n",
        "plt.fill_between(x1,y5, y6, where=y5>y6, color='grey', alpha=0.5)\n",
        "plt.legend(bbox_to_anchor=(1.05, 1), loc=2, borderaxespad=0.)\n",
        "#Plot the optimal point\n",
        "plt.plot(transformers_lp_problem.variables()[0].varValue,transformers_lp_problem.variables()[1].varValue,'ro')\n",
        "\n",
        "plt.show()"
      ],
      "execution_count": null,
      "outputs": [
        {
          "output_type": "display_data",
          "data": {
            "image/png": "[encoded data removed]",
            "text/plain": [
              "<Figure size 432x288 with 1 Axes>"
            ]
          },
          "metadata": {
            "tags": [],
            "needs_background": "light"
          }
        }
      ]
    },
    {
      "cell_type": "markdown",
      "metadata": {
        "id": "D0iUwXtnKZQm"
      },
      "source": [
        "As we can see in the graph, the optimal solution is one of the corners of the feasible region. Even though it's an integer model and the corners do not necessarily have to be optimal, we still can tell that is inside the feasible region and thus, its a feasible solution. "
      ]
    }
  ]
}