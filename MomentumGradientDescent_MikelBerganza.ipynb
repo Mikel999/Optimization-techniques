{
  "nbformat": 4,
  "nbformat_minor": 0,
  "metadata": {
    "kernelspec": {
      "display_name": "Python 3",
      "language": "python",
      "name": "python3"
    },
    "language_info": {
      "codemirror_mode": {
        "name": "ipython",
        "version": 3
      },
      "file_extension": ".py",
      "mimetype": "text/x-python",
      "name": "python",
      "nbconvert_exporter": "python",
      "pygments_lexer": "ipython3",
      "version": "3.6.9"
    },
    "colab": {
      "name": "GradientDescent.ipynb",
      "provenance": [],
      "collapsed_sections": []
    }
  },
  "cells": [
    {
      "cell_type": "markdown",
      "metadata": {
        "id": "Vyjzz1TKZ4rf"
      },
      "source": [
        "# Gradient Descent Optimization for Machine Learning\n",
        "\n",
        "## Gradient Descent with Momentum "
      ]
    },
    {
      "cell_type": "code",
      "metadata": {
        "id": "GQjeYwouZ4rl"
      },
      "source": [
        "%matplotlib inline\n",
        "\n",
        "import tensorflow as tf\n",
        "import numpy as np\n",
        "import pylab as plt\n",
        "import matplotlib.cm as cm\n",
        "import matplotlib\n",
        "import matplotlib.pyplot as plt\n",
        "from PIL import Image as im\n",
        "import math\n",
        "import time \n",
        "import pylab as pb\n",
        "from IPython.display import display\n",
        "from IPython.display import Image\n",
        "\n",
        "#For multiple linear regression\n",
        "import sklearn\n",
        "from sklearn import linear_model\n",
        "from sklearn.linear_model import LinearRegression\n",
        "from sklearn.metrics import mean_squared_error\n",
        "from sklearn.utils import shuffle\n",
        "from sklearn import datasets #import datasets from scikit-learn\n",
        "\n",
        "import pandas as pd\n",
        "\n",
        "import time"
      ],
      "execution_count": 1,
      "outputs": []
    },
    {
      "cell_type": "markdown",
      "metadata": {
        "id": "eTLO_NNjDhb4"
      },
      "source": [
        "#Gradient Descent"
      ]
    },
    {
      "cell_type": "markdown",
      "metadata": {
        "id": "vviBQadKcGKs"
      },
      "source": [
        "The supervised problem will be deﬁned by a matrix of points X of dimensionality N × n, and the corresponding target variable for the regression problem, a vector y of dimensionality N. \n",
        "\n",
        "N vectors of n dimensionality=>X\n",
        "\n",
        "An output array of dimensionality N => y\n",
        "\n",
        "The multiple linear regression model is deﬁned as M(x) = θ0 + θ1x1 + θ2x2 + ... + θnxn."
      ]
    },
    {
      "cell_type": "code",
      "metadata": {
        "id": "ppFDsGJSUjvt"
      },
      "source": [
        "#Function to calculate the predictions of a model and then the MSE value, given a set of\n",
        "#(θ0,θ1,...,θn) parameters, the feature matrix data and the real regression values\n",
        "def modelMSE(parameters, data, y):\n",
        "  #Make the predictions given the parameters => θ0 + θ1x1 + θ2x2 + ... + θnxn\n",
        "  predictions=parameters[0] + data.dot(parameters[1:len(parameters)])\n",
        "  #Calculate the mean squared error\n",
        "  mse=mean_squared_error(y.T,predictions)\n",
        "  return predictions, mse"
      ],
      "execution_count": 2,
      "outputs": []
    },
    {
      "cell_type": "markdown",
      "metadata": {
        "id": "aH4hMEjmX1MV"
      },
      "source": [
        "### Normal Stochastic Gradient"
      ]
    },
    {
      "cell_type": "code",
      "metadata": {
        "id": "pdLzF-9JQ79e"
      },
      "source": [
        "def stochasticGradientDescent(X,y,parameters, learningRate, iterations):\n",
        "\n",
        "  #Define N with the length of y, number of vectors that are in the matrix X\n",
        "  N=len(y)\n",
        "\n",
        "  #Array of 0s, to save in each iteration the error of the model\n",
        "  allErrors=np.zeros(iterations)\n",
        "  for j in range(0,iterations):\n",
        "    error=0.0\n",
        "    #Shuffle X and y\n",
        "    X, y = shuffle(X, y)\n",
        "    #parameter update is performed for each xi and label yi\n",
        "    for i in range(0,N):\n",
        "      #A random integer between 0 and N\n",
        "      r=np.random.randint(0,N)\n",
        "      Xi=X[r].reshape(1,X.shape[1])\n",
        "      #Put y in vector (from column) and take the r index\n",
        "      yi=y.T[r].reshape(1,1)\n",
        "      #Calculate the prediction of the model and the mean squared error\n",
        "      predictions, mse= modelMSE(parameters,Xi, yi)\n",
        "      #Make the distance value intro an array, so we can then multiply row(d)*column(X)\n",
        "      d=np.full(len(Xi[0]),predictions-yi)\n",
        "      #Update parameters, the 2 is from the derivative of the mse function, len(y)=N or m in some papers\n",
        "      parameters=parameters - 2/len(y)*learningRate* (Xi.dot(d))\n",
        "      #Add to the error\n",
        "      error= error + mse\n",
        "    #Save the current iteration's error\n",
        "    allErrors[j]=error\n",
        "  #Return the optimized parameters and the error progression\n",
        "  return parameters, allErrors"
      ],
      "execution_count": 3,
      "outputs": []
    },
    {
      "cell_type": "markdown",
      "metadata": {
        "id": "a-TN7YCaX4er"
      },
      "source": [
        "### Stochastic Gradient with Momentum"
      ]
    },
    {
      "cell_type": "code",
      "metadata": {
        "id": "aw_ONBFOLf91"
      },
      "source": [
        "#vt = γvt−1 + η∇θJ(θ)\n",
        "#θ = θ−vt\n",
        "def stochasticMomentum(X,y,parameters, velocity, gamma, learningRate, iterations):\n",
        "  #Define N with the length of y, number of vectors that are in the matrix X\n",
        "  N=len(y)\n",
        "  previousVelocity=np.copy(velocity)\n",
        "  #Array of 0s, to save in each iteration the error of the model\n",
        "  allErrors=np.zeros(iterations)\n",
        "  for j in range(0,iterations):\n",
        "    error=0.0\n",
        "    #parameter update is performed for each xi and label yi\n",
        "    for i in range(0,N):\n",
        "      #A random integer between 0 and N\n",
        "      r=np.random.randint(0,N)\n",
        "      Xi=X[r].reshape(1,X.shape[1])\n",
        "      #Put y in vector (from column) and take the r index\n",
        "      yi=y.T[r].reshape(1,1)\n",
        "      #Calculate the prediction of the model and the mean squared error\n",
        "      predictions, mse= modelMSE(parameters,Xi, yi)\n",
        "      #Make the distance value intro an array, so we can then multiply row(d)*column(X)\n",
        "      d=np.full(len(Xi[0]),predictions-yi)\n",
        "      #Update velocity, given the previous velocity and the derivative of the cost function mse\n",
        "      velocity= gamma*previousVelocity + 2/len(y)*learningRate* (Xi.dot(d))\n",
        "      #Update parameters, the 2 is from the derivative of the mse function, len(y)=N or m in some papers\n",
        "      parameters=parameters-velocity\n",
        "      #Add to the error\n",
        "      error= error + mse\n",
        "      #Update the previous velocity with the current velocity\n",
        "      previousVelocity=velocity\n",
        "    #Save the current iteration's error\n",
        "    allErrors[j]=error\n",
        "  #Return the optimized parameters and the error progression\n",
        "  return parameters, allErrors"
      ],
      "execution_count": 4,
      "outputs": []
    },
    {
      "cell_type": "markdown",
      "metadata": {
        "id": "KcdrcKBCITzV"
      },
      "source": [
        "#SGD with a known linear function (all coefficients known)"
      ]
    },
    {
      "cell_type": "markdown",
      "metadata": {
        "id": "r0GxzkHm83ab"
      },
      "source": [
        "### Comparison between SGD and SGD+Momentum"
      ]
    },
    {
      "cell_type": "code",
      "metadata": {
        "id": "YfOsbd3NXm-f",
        "colab": {
          "base_uri": "https://localhost:8080/",
          "height": 444
        },
        "outputId": "943ce15e-c806-417d-b868-719f77ea7716"
      },
      "source": [
        "start_time = time.time()\n",
        "\n",
        "#Setting the parameters for the SGD and SGD with momentum\n",
        "iter=3000\n",
        "#Good initial learning rate 1e-5\n",
        "#Best learning rate found for this dataset 1e-3\n",
        "learningRate=1e-4\n",
        "\n",
        "#Creating the testing data set, were y=4 + 3X1 + 2X2\n",
        "X = 2 * np.random.rand(20,2)\n",
        "y = 4 + (3*X[:,0]) + (2*X[:,1])\n",
        "\n",
        "#Random starting parameters from 0 to 1\n",
        "params=np.random.rand((len(X[0])+1))\n",
        "\n",
        "#The first comparison will be between SGD and SGD with momentum\n",
        "predict, errors= stochasticGradientDescent(X,y,params,learningRate,iter)\n",
        "print(\"################ Normal SGD ################\")\n",
        "print(\"Optimized Theta values SGD:\", predict)\n",
        "print(\"Last error SGD:\", errors[len(errors)-1])\n",
        "plt.plot(errors, label=\"SGD\")\n",
        "\n",
        "#More parameters for SGD with momentum\n",
        "#Initial velocity set to zeros\n",
        "vel=np.zeros(len(params))\n",
        "#Best initial gamma parameter\n",
        "gamma=0.9\n",
        "\n",
        "predict, errors= stochasticMomentum(X,y,params, vel,gamma,learningRate,iter)\n",
        "print(\"################ SGD with Momentum ################\")\n",
        "print(\"Optimized Theta values SGD Momentum:\", predict)\n",
        "print(\"Last error SGD Momentum:\", errors[len(errors)-1])\n",
        "plt.plot(errors, color='red', label=\"SGD with Momentum\")\n",
        "plt.xlabel('Iterations')\n",
        "plt.ylabel('Error')\n",
        "plt.suptitle('SGD and SGD+Momentum Error through time \\n (learning rate = '+str(learningRate)+')')\n",
        "plt.legend()\n",
        "print(\"################ Execution time ################\")\n",
        "print(\"Time of execution in seconds: %.2f \" % (time.time() - start_time))"
      ],
      "execution_count": 7,
      "outputs": [
        {
          "output_type": "stream",
          "text": [
            "################ Normal SGD ################\n",
            "Optimized Theta values SGD: [2.91345532 2.87662244 2.94184804]\n",
            "Last error SGD: 3.310136559838326\n",
            "################ SGD with Momentum ################\n",
            "Optimized Theta values SGD Momentum: [2.95133678 2.9145039  2.9797295 ]\n",
            "Last error SGD Momentum: 4.951163645589544\n",
            "################ Execution time ################\n",
            "Time of execution in seconds: 38.43 \n"
          ],
          "name": "stdout"
        },
        {
          "output_type": "display_data",
          "data": {
            "image/png": "[encoded data removed]",
            "text/plain": [
              "<Figure size 432x288 with 1 Axes>"
            ]
          },
          "metadata": {
            "tags": [],
            "needs_background": "light"
          }
        }
      ]
    },
    {
      "cell_type": "markdown",
      "metadata": {
        "id": "93RIlvgzIMO4"
      },
      "source": [
        "# SGD with a Real Data Set"
      ]
    },
    {
      "cell_type": "markdown",
      "metadata": {
        "id": "GnRwit1AmEhj"
      },
      "source": [
        "## Boston housing dataset"
      ]
    },
    {
      "cell_type": "code",
      "metadata": {
        "id": "WEyO6rzLIS4l"
      },
      "source": [
        "start_time = time.time()\r\n",
        "\r\n",
        "#https://scikit-learn.org/stable/modules/generated/sklearn.datasets.load_boston.html#sklearn.datasets.load_boston\r\n",
        "#Using the boston data set from the sklearn library\r\n",
        "data=datasets.load_boston()\r\n",
        "#To see the full description of the data set\r\n",
        "#print(data.DESCR)\r\n",
        "#First 13 columns are the predictors, and the MEDV is the target class\r\n",
        "\r\n",
        "#Separate de data into predictors and target classes\r\n",
        "predictors=pd.DataFrame(data.data, columns=data.feature_names)\r\n",
        "target=pd.DataFrame(data.target, columns=[\"MEDV\"])\r\n",
        "#print(predictors.isnull().values.any())\r\n",
        "\r\n",
        "#Normalize the feature values, Feature scaling improves the convergence of steepest descent algorithms\r\n",
        "normpredictors=(predictors-predictors.mean())/predictors.std()\r\n",
        "#To use a numpy representation of the DataFrame, the .values attribute can be used\r\n",
        "#Put the target data as an np array\r\n",
        "targetarray=np.asarray(target.values).reshape(-1)\r\n",
        "#Normalize the target values\r\n",
        "targetarray=(targetarray-targetarray.mean())/targetarray.std()\r\n",
        "\r\n",
        "#Setting the parameters for the SGD with momentum\r\n",
        "iter=3000\r\n",
        "#Best learning rate 5e-6\r\n",
        "learningRate=5e-6\r\n",
        "#Random starting parameters from 0 to 1\r\n",
        "params=np.random.rand(predictors.shape[1]+1)\r\n",
        "#Initial velocity set to zeros\r\n",
        "vel=np.zeros(len(params))\r\n",
        "#Best gamma parameter\r\n",
        "gamma=0.9\r\n",
        "\r\n",
        "predict, errors= stochasticMomentum(normpredictors.values,targetarray,params, vel,gamma,learningRate,iter)\r\n",
        "print(\"Optimized Theta values\", predict)\r\n",
        "print(\"Last error\", errors[len(errors)-1])\r\n",
        "plt.plot(errors, color='red')\r\n",
        "plt.xlabel('Iterations')\r\n",
        "plt.ylabel('Error')\r\n",
        "plt.suptitle('SGD+Momentum Error through time (Boston dataset)\\n (learning rate = '+str(learningRate)+')')\r\n",
        "\r\n",
        "print(\"################ Execution time ################\")\r\n",
        "print(\"Time of execution in seconds: %.2f \" % (time.time() - start_time))"
      ],
      "execution_count": null,
      "outputs": []
    },
    {
      "cell_type": "markdown",
      "metadata": {
        "id": "pMVvLOLymH5J"
      },
      "source": [
        "## Car Price Assignment dataset"
      ]
    },
    {
      "cell_type": "code",
      "metadata": {
        "id": "VrzwDRMUeYcX"
      },
      "source": [
        "start_time = time.time()\r\n",
        "\r\n",
        "# #Upload csv file\r\n",
        "# from google.colab import files\r\n",
        "# uploaded = files.upload()\r\n",
        "\r\n",
        "#Read the data\r\n",
        "data=pd.read_csv(\"CarPrice_Assignment.csv\")\r\n",
        "#Visualize the data\r\n",
        "data.head()\r\n",
        "#Each feature dtype\r\n",
        "#data.info()\r\n",
        "\r\n",
        "#Separate de data into predictors and target classes\r\n",
        "predictors= data[['symboling','wheelbase','carlength','carwidth','carheight','curbweight','enginesize','boreratio', 'stroke',\r\n",
        "       'compressionratio', 'horsepower', 'peakrpm', 'citympg', 'highwaympg']]\r\n",
        "target=data[['price']]\r\n",
        "\r\n",
        "#Normalize the feature values, Feature scaling improves the convergence of steepest descent algorithms\r\n",
        "normpredictors=(predictors-predictors.mean())/predictors.std()\r\n",
        "#To use a numpy representation of the DataFrame, the .values attribute can be used\r\n",
        "#Put the target data as an np array\r\n",
        "targetarray=np.asarray(target.values).reshape(-1)\r\n",
        "#Normalize the target values\r\n",
        "targetarray=(targetarray-targetarray.mean())/targetarray.std()\r\n",
        "\r\n",
        "#Setting the parameters for the SGD with momentum\r\n",
        "iter=3000\r\n",
        "#Good initial learning rate 1e-5, or 1e-6\r\n",
        "#learningRate=1e-6\r\n",
        "learningRate=5e-6\r\n",
        "#Random starting parameters from 0 to 1\r\n",
        "params=np.random.rand(predictors.shape[1]+1)\r\n",
        "#Initial velocity set to zeros\r\n",
        "vel=np.zeros(len(params))\r\n",
        "#Best initial gamma parameter\r\n",
        "gamma=0.9\r\n",
        "\r\n",
        "predict, errors= stochasticMomentum(normpredictors.values,targetarray,params, vel,gamma,learningRate,iter)\r\n",
        "print(\"Optimized Theta values\", predict)\r\n",
        "print(\"Last error\", errors[len(errors)-1])\r\n",
        "plt.plot(errors, color='red')\r\n",
        "plt.xlabel('Iterations')\r\n",
        "plt.ylabel('Error')\r\n",
        "plt.suptitle('SGD+Momentum Error through time (Car Price dataset)\\n (learning rate = '+str(learningRate)+')')\r\n",
        "\r\n",
        "print(\"################ Execution time ################\")\r\n",
        "print(\"Time of execution in seconds: %.2f \" % (time.time() - start_time))"
      ],
      "execution_count": null,
      "outputs": []
    }
  ]
}